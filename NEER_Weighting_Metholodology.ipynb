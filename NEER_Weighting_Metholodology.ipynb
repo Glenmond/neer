{
 "cells": [
  {
   "cell_type": "code",
   "execution_count": null,
   "id": "b69c760e",
   "metadata": {},
   "outputs": [],
   "source": [
    "# Importing the relevant libraries\n",
    "import pandas as pd\n",
    "import numpy as np\n",
    "import statsmodels.api as sm\n",
    "from scipy.optimize import minimize\n",
    " \n",
    "# Importing data from MAS website\n",
    "df=pd.read_excel(\"input/mas.xlsx\")\n",
    "df.info()\n",
    "df.describe()\n",
    " \n",
    "# Setting the Date column to be the index of the dataframe\n",
    "df['Date'] = pd.to_datetime(df['Date'])\n",
    "df.set_index('Date', inplace=True)\n",
    " \n",
    "# Setting 21 Oct 2022 as the base date\n",
    "base_date = '2022-10-21'\n",
    "indexed_df = df / df.loc[base_date]\n",
    "indexed_df = indexed_df * 100\n",
    " \n",
    "# Calculating log returns and dropping the rows with missing data\n",
    "log_returns = indexed_df.apply(lambda x: np.log(x / x.shift(1)))\n",
    "df = log_returns.dropna()\n",
    " \n",
    "# Multiplying cross rates with minus one to convert FX returns into SGD as base currency\n",
    " \n",
    "df1= df[['EUR','GBP','USD','AUD','CAD','CNY','HKD','INR','IDR','JPY','KRW','MYR','TWD','NZD','PHP','QAR','SAR','CHF','THB','AED','VND'\n",
    "]]*-1\n",
    "df1['NEER']=df['NEER']"
   ]
  },
  {
   "cell_type": "markdown",
   "id": "3d45c147",
   "metadata": {},
   "source": [
    "## Optimization of NEER weights\n",
    "We aim to estimate the weights of NEER using SG's trading partners. We first fit a regression equation with NEERS returns as the dependent variable (y) & cross rates returns with weights as independent variable (x). We seek to optimized the weights (ie beta) for a best fit regression line with lowest RMSE error."
   ]
  },
  {
   "cell_type": "code",
   "execution_count": 1,
   "id": "6d7860a2",
   "metadata": {},
   "outputs": [
    {
     "ename": "NameError",
     "evalue": "name 'df1' is not defined",
     "output_type": "error",
     "traceback": [
      "\u001b[0;31m---------------------------------------------------------------------------\u001b[0m",
      "\u001b[0;31mNameError\u001b[0m                                 Traceback (most recent call last)",
      "Input \u001b[0;32mIn [1]\u001b[0m, in \u001b[0;36m<cell line: 2>\u001b[0;34m()\u001b[0m\n\u001b[1;32m      1\u001b[0m \u001b[38;5;66;03m# indicating dependent and independent variables\u001b[39;00m\n\u001b[0;32m----> 2\u001b[0m Y \u001b[38;5;241m=\u001b[39m \u001b[43mdf1\u001b[49m[\u001b[38;5;124m'\u001b[39m\u001b[38;5;124mNEER\u001b[39m\u001b[38;5;124m'\u001b[39m]\u001b[38;5;241m.\u001b[39mvalues\n\u001b[1;32m      3\u001b[0m X \u001b[38;5;241m=\u001b[39m df1[[\u001b[38;5;124m'\u001b[39m\u001b[38;5;124mEUR\u001b[39m\u001b[38;5;124m'\u001b[39m,\u001b[38;5;124m'\u001b[39m\u001b[38;5;124mGBP\u001b[39m\u001b[38;5;124m'\u001b[39m,\u001b[38;5;124m'\u001b[39m\u001b[38;5;124mUSD\u001b[39m\u001b[38;5;124m'\u001b[39m,\u001b[38;5;124m'\u001b[39m\u001b[38;5;124mAUD\u001b[39m\u001b[38;5;124m'\u001b[39m,\u001b[38;5;124m'\u001b[39m\u001b[38;5;124mCNY\u001b[39m\u001b[38;5;124m'\u001b[39m,\u001b[38;5;124m'\u001b[39m\u001b[38;5;124mJPY\u001b[39m\u001b[38;5;124m'\u001b[39m,\u001b[38;5;124m'\u001b[39m\u001b[38;5;124mKRW\u001b[39m\u001b[38;5;124m'\u001b[39m,\u001b[38;5;124m'\u001b[39m\u001b[38;5;124mMYR\u001b[39m\u001b[38;5;124m'\u001b[39m,\u001b[38;5;124m'\u001b[39m\u001b[38;5;124mTWD\u001b[39m\u001b[38;5;124m'\u001b[39m]]\u001b[38;5;241m.\u001b[39mvalues\n\u001b[1;32m      6\u001b[0m \u001b[38;5;66;03m# Defining the objective function - Sum of Squared Residuals\u001b[39;00m\n",
      "\u001b[0;31mNameError\u001b[0m: name 'df1' is not defined"
     ]
    }
   ],
   "source": [
    "# indicating dependent and independent variables\n",
    "Y = df1['NEER'].values\n",
    "X = df1[['EUR','GBP','USD','AUD','CNY','JPY','KRW','MYR','TWD']].values()\n",
    " \n",
    "# objective function - sum of squared residuals\n",
    "def objective_function(betas):\n",
    "    Estimated_Y = np.dot(X, betas)\n",
    "    return np.sum((Y - Estimated_Y) ** 2)\n",
    " \n",
    "# Defining the constraint - sum of betas equals 1\n",
    "constraints = {\n",
    "    'type': 'eq',\n",
    "    'fun': lambda betas: np.sum(betas) - 1\n",
    "}\n",
    " \n",
    "# Specifying the initial guess for betas - use any numbers that sum to 1\n",
    "initial_betas = np.full(9, 1/9)\n",
    " \n",
    "# Minimize the objective function and calculating the estimated values\n",
    "result = minimize(objective_function, initial_betas, constraints=constraints)\n",
    " \n",
    "optimized_betas = result.x\n",
    "df1['Estimated_Y'] = np.dot(X, optimized_betas)\n",
    " \n",
    "# The estimated weights on individual currencies are simply the optimized_betas multiplied with 100\n",
    "Weights = [x*100 for x in optimized_betas]\n",
    " \n",
    "# Assigning the corresponding FX names to the Weights and sorting in descending order\n",
    "Currency=['EUR','GBP','USD','AUD','CNY','JPY','KRW','MYR','TWD']\n",
    " \n",
    "Currency_Weights_dict = dict(zip(Currency, Weights))\n",
    " \n",
    "sorted_Currency_Weights = sorted(Currency_Weights_dict.items(), key=lambda item: item[1], reverse=True)\n",
    " \n",
    "# Plotting the estimated Weights\n",
    "import matplotlib.pyplot as plt\n",
    "plt.figure(figsize=(8, 4))\n",
    "bars=plt.bar([p[0] for p in sorted_Currency_Weights], [p[1] for p in sorted_Currency_Weights])\n",
    " \n",
    "for bar in bars:\n",
    "    yval = bar.get_height()\n",
    "    plt.text(bar.get_x() + bar.get_width()/2, yval, round(yval, 1), ha='center', va='bottom')\n",
    " \n",
    "plt.xlabel('Currency')\n",
    "plt.ylabel('Weight (%)')\n",
    "plt.title('Optimal NEER Weights')\n",
    "plt.tight_layout()\n",
    " \n",
    "plt.show()"
   ]
  },
  {
   "cell_type": "markdown",
   "id": "9bd46c3f",
   "metadata": {},
   "source": [
    "# Backtesting NEER with official figures"
   ]
  },
  {
   "cell_type": "code",
   "execution_count": null,
   "id": "8a5f93bd",
   "metadata": {},
   "outputs": [],
   "source": [
    "# Calculating cumulative log returns for deriving the official NEER (NEERo) and estimated NEER (NEERe)\n",
    "cumulative_log_returnsY = np.cumsum(df1['NEER'])\n",
    "NEERo = 100 * np.exp(cumulative_log_returnsY)\n",
    " \n",
    "cumulative_log_returnsYhat = np.cumsum(df1['Estimated_Y'])\n",
    "NEERe = 100 * np.exp(cumulative_log_returnsYhat)\n",
    " \n",
    "# Plotting offical vs. estimated NEER\n",
    "plt.figure(figsize=(8, 4))\n",
    "plt.plot(NEERo, label='Official NEER')\n",
    "plt.plot(NEERe, label='Estimated NEER')\n",
    "plt.title('NEER levels, 21 Oct 2022=100')\n",
    "plt.legend()\n",
    "plt.show()"
   ]
  }
 ],
 "metadata": {
  "kernelspec": {
   "display_name": "Python 3 (ipykernel)",
   "language": "python",
   "name": "python3"
  },
  "language_info": {
   "codemirror_mode": {
    "name": "ipython",
    "version": 3
   },
   "file_extension": ".py",
   "mimetype": "text/x-python",
   "name": "python",
   "nbconvert_exporter": "python",
   "pygments_lexer": "ipython3",
   "version": "3.9.5"
  }
 },
 "nbformat": 4,
 "nbformat_minor": 5
}
